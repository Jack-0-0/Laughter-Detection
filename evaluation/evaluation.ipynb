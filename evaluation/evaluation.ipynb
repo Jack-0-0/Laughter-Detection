{
 "cells": [
  {
   "cell_type": "code",
   "execution_count": 9,
   "metadata": {},
   "outputs": [],
   "source": [
    "import numpy as np\n",
    "from keras.models import load_model\n",
    "import matplotlib.pyplot as plt\n",
    "import matplotlib\n",
    "from sklearn.metrics import roc_curve, auc"
   ]
  },
  {
   "cell_type": "code",
   "execution_count": 2,
   "metadata": {},
   "outputs": [],
   "source": [
    "# set path to model\n",
    "model = load_model('DE_EN_8.h5')\n",
    "\n",
    "# set path for training data\n",
    "# if more than one language data, use np.vstack\n",
    "# if using only one language data, set train = np.load(dataset_path)\n",
    "# variable train will be used for evaluation\n",
    "train_de = np.load('de_train_6_6_64_ds.npy', allow_pickle=True)\n",
    "train_en = np.load('en_train_6_6_64_ds.npy', allow_pickle=True)\n",
    "train = np.vstack((train_en, train_de))\n",
    "\n",
    "# set paths to test data\n",
    "test_de = np.load('de_test_6_6_64_ds.npy', allow_pickle=True)\n",
    "test_ch = np.load('ch_test_6_6_64_ds.npy', allow_pickle=True)\n",
    "test_en = np.load('en_test_6_6_64_ds.npy', allow_pickle=True)\n",
    "\n",
    "# set number of mels\n",
    "# set this to 64 for 22,050 Hz experiments or 45 for 8,000 Hz experiments\n",
    "mels = 45 "
   ]
  },
  {
   "cell_type": "code",
   "execution_count": 3,
   "metadata": {},
   "outputs": [],
   "source": [
    "def find_mean_stdd(dataset):\n",
    "    \"\"\"Find mean and standard deviation of the dataset.\n",
    "    \n",
    "    # Arguments\n",
    "        dataset: dataset in format (id, spectro, label).\n",
    "        where spectro is in format (n, timesteps, mel bands, 1).\n",
    "        \n",
    "    # Returns\n",
    "        mean: mean for each mel band across the dataset.\n",
    "        stdd: standard deviation for each mel band across the dataset.\n",
    "    \"\"\"\n",
    "    x = dataset[:, 1]\n",
    "    x = np.stack(x) # reshape to (n, mel bands, timesteps)\n",
    "    mean = x.mean(axis=(0, 2)) # mean in shape (mel bands, )\n",
    "    mean = np.expand_dims(mean, axis=1) # reshape mean to (mel bands, 1)\n",
    "    stdd = x.std(axis=(0, 2)) # std in shape (mel bands, )\n",
    "    stdd = np.expand_dims(stdd, axis=1) # reshape stdd to (mel bands, 1)\n",
    "    return mean, stdd\n",
    "\n",
    "\n",
    "def normalise_and_reformat(dataset, mean, stdd):\n",
    "    \"\"\"Normalise data based on training data and reformat into suitable format.\n",
    "    \n",
    "    # Arguments\n",
    "        dataset: dataset in format (id, spectro, label)\n",
    "        mean: mean for each mel band across the dataset.\n",
    "        stdd: standard deviation for each mel band across the dataset.\n",
    "        \n",
    "    # Returns\n",
    "        x: spectros normalised across each mel band in format (n, timesteps, mel bands, 1)\n",
    "        y: labels in format (n, timesteps, 1)\n",
    "    \"\"\"\n",
    "    x = dataset[:, 1] \n",
    "    x = np.stack(x) # reshape to (n, mel bands, timesteps)\n",
    "    x = (x - mean) / (stdd + 1e-8) # normalise so mean is equal to zero and variance equal to 1\n",
    "    x = np.expand_dims(np.moveaxis(x, 1, -1), axis=3) # reformat x to (n, timesteps, mel bands, 1)  \n",
    "    y = dataset[:, 2] \n",
    "    y = np.expand_dims(np.moveaxis(np.stack(y), 1, -1), axis=2) # reformat y to (n, timesteps, 1)\n",
    "    return x, y"
   ]
  },
  {
   "cell_type": "code",
   "execution_count": 4,
   "metadata": {},
   "outputs": [],
   "source": [
    "def metrics(x, y, threshold):\n",
    "    \"\"\"Calculate the TPR, TNR, FPR, FNR and F1 score.\n",
    "    \n",
    "    # Arguments\n",
    "        x: inputs to the network.\n",
    "        y: actual outputs.\n",
    "        threshold: values greater than threshold get set to 1, values less than or\n",
    "                   equal to the threshold get set to 0.\n",
    "\n",
    "    # Returns\n",
    "        dictionary with TPR, TNR, FPR, FNR, F1 values\n",
    "        dependent on threshold.\n",
    "    \"\"\"\n",
    "    predicted = model.predict(x)\n",
    "    predicted[predicted > threshold] = 1\n",
    "    predicted[predicted <= threshold] = 0\n",
    "    actual = y\n",
    "    TP = np.sum(np.logical_and(predicted == 1, actual == 1))\n",
    "    FN = np.sum(np.logical_and(predicted == 0, actual == 1))\n",
    "    TN = np.sum(np.logical_and(predicted == 0, actual == 0))\n",
    "    FP = np.sum(np.logical_and(predicted == 1, actual == 0))\n",
    "    TPR  = TP / (TP + FN + 1e-8)\n",
    "    TNR  = TN / (TN + FP + 1e-8)\n",
    "    FPR = FP / (FP + TN + 1e-8)\n",
    "    FNR = FN / (FN + TP + 1e-8)\n",
    "    precision = TP / (TP + FP + 1e-8)\n",
    "    recall = TPR\n",
    "    F1 = 2 * precision * recall / (precision + recall + 1e-8)\n",
    "    metrics_dict = {'TPR': np.round(TPR, 3),\n",
    "                    'TNR': np.round(TNR, 3),\n",
    "                    'FPR' : np.round(FPR, 3),\n",
    "                    'FNR' : np.round(FNR, 3),\n",
    "                    'F1 Score' : np.round(F1, 3)\n",
    "                   }\n",
    "    return metrics_dict\n",
    "\n",
    "def plot_ROC(model, x, y):\n",
    "    \"\"\"Plot the ROC with AUC.\n",
    "    \n",
    "    # Arguments\n",
    "        model: model after training.\n",
    "        x: inputs to the network for testing.\n",
    "        y: actual outputs for testing.\n",
    "        \n",
    "    # Output\n",
    "        plot of ROC.\n",
    "    \"\"\" \n",
    "    predicted = model.predict(x).ravel()\n",
    "    actual = y.ravel()\n",
    "    fpr, tpr, thresholds = roc_curve(actual, predicted, pos_label=None)\n",
    "    roc_auc = auc(fpr, tpr)\n",
    "    plt.title('Test ROC AUC')\n",
    "    plt.plot(fpr, tpr, 'b', label='AUC = %0.3f' % roc_auc)\n",
    "    plt.legend(loc='lower right')\n",
    "    plt.plot([0,1],[0,1],'r--')\n",
    "    plt.xlim([0.0,1.0])\n",
    "    plt.ylim([0.0,1.0])\n",
    "    plt.ylabel('True Positive Rate')\n",
    "    plt.xlabel('False Positive Rate')\n",
    "    plt.show()"
   ]
  },
  {
   "cell_type": "code",
   "execution_count": 5,
   "metadata": {},
   "outputs": [],
   "source": [
    "# find training mean and stdd that can be used to normalise test data\n",
    "mean, stdd = find_mean_stdd(train)\n",
    "# normalise test data\n",
    "x_test_en, y_test_en = normalise_and_reformat(test_en, mean, stdd)\n",
    "x_test_ch, y_test_ch = normalise_and_reformat(test_ch, mean, stdd)\n",
    "x_test_de, y_test_de = normalise_and_reformat(test_de, mean, stdd)"
   ]
  },
  {
   "cell_type": "code",
   "execution_count": 6,
   "metadata": {},
   "outputs": [],
   "source": [
    "# reduce mel bands\n",
    "x_test_en = x_test_en[:, :, :mels, :]\n",
    "x_test_ch = x_test_ch[:, :, :mels, :]\n",
    "x_test_de = x_test_de[:, :, :mels, :]"
   ]
  },
  {
   "cell_type": "code",
   "execution_count": 7,
   "metadata": {},
   "outputs": [],
   "source": [
    "threshold = 0.5"
   ]
  },
  {
   "cell_type": "code",
   "execution_count": null,
   "metadata": {},
   "outputs": [],
   "source": [
    "# chinese test evaluation\n",
    "print(metrics(x_test_ch, y_test_ch, threshold))\n",
    "plot_ROC(model, x_test_ch, y_test_ch)"
   ]
  },
  {
   "cell_type": "code",
   "execution_count": null,
   "metadata": {},
   "outputs": [],
   "source": [
    "# german test evaluation\n",
    "print(metrics(x_test_de, y_test_de, threshold))\n",
    "plot_ROC(model, x_test_de, y_test_de)"
   ]
  },
  {
   "cell_type": "code",
   "execution_count": null,
   "metadata": {},
   "outputs": [],
   "source": [
    "# english test evaluation\n",
    "print(metrics(x_test_en, y_test_en, threshold))\n",
    "plot_ROC(model, x_test_en, y_test_en)"
   ]
  }
 ],
 "metadata": {
  "kernelspec": {
   "display_name": "Python 3",
   "language": "python",
   "name": "python3"
  },
  "language_info": {
   "codemirror_mode": {
    "name": "ipython",
    "version": 3
   },
   "file_extension": ".py",
   "mimetype": "text/x-python",
   "name": "python",
   "nbconvert_exporter": "python",
   "pygments_lexer": "ipython3",
   "version": "3.6.8"
  }
 },
 "nbformat": 4,
 "nbformat_minor": 2
}
